{
 "cells": [
  {
   "cell_type": "code",
   "execution_count": 7,
   "metadata": {},
   "outputs": [],
   "source": [
    "s = {'word': \"Econometrics\",\n",
    "'sentence': \"If the implementation is easy to explain, it may be a good idea.\",\n",
    "'big_list': [\"python\", 3, \"anaconda\", 3.6, \"jupyter\", 10, \"lessons\", \"many\", 99],\n",
    "'empty_list': []}"
   ]
  },
  {
   "cell_type": "code",
   "execution_count": 8,
   "metadata": {},
   "outputs": [],
   "source": [
    "#1,2\n",
    "if not s['word'].isupper():\n",
    "  s['word'] =\"Applied_\"+ s['word'].upper() \n"
   ]
  },
  {
   "cell_type": "code",
   "execution_count": 9,
   "metadata": {},
   "outputs": [
    {
     "data": {
      "text/plain": [
       "{'word': 'Applied_ECONOMETRICS',\n",
       " 'sentence': 'If the implementation is easy to explain, it may be a good idea.',\n",
       " 'big_list': ['python',\n",
       "  3,\n",
       "  'anaconda',\n",
       "  3.6,\n",
       "  'jupyter',\n",
       "  10,\n",
       "  'lessons',\n",
       "  'many',\n",
       "  99],\n",
       " 'empty_list': []}"
      ]
     },
     "execution_count": 9,
     "metadata": {},
     "output_type": "execute_result"
    }
   ],
   "source": [
    "s"
   ]
  },
  {
   "cell_type": "code",
   "execution_count": 14,
   "metadata": {},
   "outputs": [],
   "source": [
    "#3\n",
    "sentences = s['sentence'].split(\" \")\n",
    "sentences[2] = \"Karen\"\n",
    "new_sentence = \" \".join(sentences)\n",
    "s['sentence'] = new_sentence"
   ]
  },
  {
   "cell_type": "code",
   "execution_count": 11,
   "metadata": {},
   "outputs": [
    {
     "name": "stdout",
     "output_type": "stream",
     "text": [
      "p\n",
      "a\n",
      "j\n",
      "l\n",
      "m\n"
     ]
    }
   ],
   "source": [
    "#4\n",
    "for item in s['big_list']:\n",
    "    if type(item) == str:\n",
    "        print(item[0])"
   ]
  },
  {
   "cell_type": "code",
   "execution_count": 12,
   "metadata": {},
   "outputs": [
    {
     "name": "stdout",
     "output_type": "stream",
     "text": [
      "112\n",
      "100\n"
     ]
    }
   ],
   "source": [
    "#5       \n",
    "sum = 0\n",
    "for item in s['big_list']:\n",
    "    if type(item) == int:\n",
    "        sum+= item\n",
    "print(sum)\n",
    "sum1 = 0\n",
    "s['big_list'].remove(s['big_list'][-1])\n",
    "s['big_list'].append(87)\n",
    "for item in s['big_list']:\n",
    "    if type(item) == int:\n",
    "        sum1+= item\n",
    "print(sum1)"
   ]
  },
  {
   "cell_type": "code",
   "execution_count": 17,
   "metadata": {},
   "outputs": [
    {
     "name": "stdout",
     "output_type": "stream",
     "text": [
      "225 225\n",
      "Applied_ECONOMETRICS\n",
      "If the Karen is easy to explain, it may be a good idea.\n",
      "['python', 3, 'anaconda', 3.6, 'jupyter', 10, 'lessons', 'many', 87]\n",
      "[]\n"
     ]
    }
   ],
   "source": [
    "#7\n",
    "my_list = []\n",
    "count_odd = 0\n",
    "count_prime = 0\n",
    "for i in range(50,500):\n",
    "    my_list.append(i)\n",
    "\n",
    "for number in my_list:\n",
    "    if number % 2 == 0:\n",
    "        count_prime +=1\n",
    "    elif number % 2 == 1:\n",
    "        count_odd +=1\n",
    "\n",
    "print(count_odd, count_prime)\n",
    "\n",
    "\n",
    "for key in s:\n",
    "    print(s[key])"
   ]
  }
 ],
 "metadata": {
  "interpreter": {
   "hash": "b3ba2566441a7c06988d0923437866b63cedc61552a5af99d1f4fb67d367b25f"
  },
  "kernelspec": {
   "display_name": "Python 3.9.7 ('base')",
   "language": "python",
   "name": "python3"
  },
  "language_info": {
   "codemirror_mode": {
    "name": "ipython",
    "version": 3
   },
   "file_extension": ".py",
   "mimetype": "text/x-python",
   "name": "python",
   "nbconvert_exporter": "python",
   "pygments_lexer": "ipython3",
   "version": "3.9.7"
  },
  "orig_nbformat": 4
 },
 "nbformat": 4,
 "nbformat_minor": 2
}
